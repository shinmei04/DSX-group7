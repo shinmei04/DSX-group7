{
 "cells": [
  {
   "cell_type": "code",
   "execution_count": 1,
   "id": "8456aea9",
   "metadata": {},
   "outputs": [
    {
     "name": "stderr",
     "output_type": "stream",
     "text": [
      "C:\\Users\\niimi\\anaconda3\\lib\\site-packages\\scipy\\__init__.py:146: UserWarning: A NumPy version >=1.16.5 and <1.23.0 is required for this version of SciPy (detected version 1.23.5\n",
      "  warnings.warn(f\"A NumPy version >={np_minversion} and <{np_maxversion}\"\n"
     ]
    }
   ],
   "source": [
    "import pandas as pd\n",
    "from sklearn.preprocessing import StandardScaler\n",
    "from sklearn.cluster import KMeans\n",
    "import matplotlib.pyplot as plt\n",
    "import seaborn as sns\n",
    "from sklearn.decomposition import PCA"
   ]
  },
  {
   "cell_type": "code",
   "execution_count": 3,
   "id": "c08b65a8",
   "metadata": {},
   "outputs": [],
   "source": [
    "# CSVファイルの読み込み\n",
    "file_path = 'spotify-2023.csv'  \n",
    "spotify_data = pd.read_csv(file_path, encoding='ISO-8859-1')"
   ]
  },
  {
   "cell_type": "code",
   "execution_count": 5,
   "id": "781a9b09",
   "metadata": {},
   "outputs": [],
   "source": [
    "# keyとmodeを数値に変換(データの前処理)\n",
    "key_mapping = {'C': 0, 'C#': 1, 'D': 2, 'D#': 3, 'E': 4, 'F': 5, 'F#': 6, 'G': 7, 'G#': 8, 'A': 9, 'A#': 10, 'B': 11}\n",
    "spotify_data['key'] = spotify_data['key'].map(key_mapping)\n",
    "\n",
    "mode_mapping = {'Major': 1, 'Minor': 0}\n",
    "spotify_data['mode'] = spotify_data['mode'].map(mode_mapping)"
   ]
  },
  {
   "cell_type": "code",
   "execution_count": null,
   "id": "e4b779be",
   "metadata": {},
   "outputs": [],
   "source": [
    "# クラスタリングに使用する特徴量を選定\n",
    "features = ['bpm', 'key', 'mode', 'danceability_%', 'valence_%', 'energy_%', 'acousticness_%', 'instrumentalness_%', 'liveness_%', 'speechiness_%']\n",
    "X = spotify_data[features]\n",
    "\n",
    "# データの標準化\n",
    "scaler = StandardScaler()\n",
    "X_scaled = scaler.fit_transform(X)\n",
    "\n",
    "# 欠損値を含む行を削除\n",
    "spotify_data_clean = spotify_data.dropna()\n",
    "X_clean = spotify_data_clean[features]\n",
    "X_scaled_clean = scaler.fit_transform(X_clean)\n",
    "\n",
    "# K-meansクラスタリングの実行\n",
    "kmeans = KMeans(n_clusters=5, random_state=0)\n",
    "spotify_data_clean['cluster'] = kmeans.fit_predict(X_scaled_clean)\n",
    "\n",
    "# 各クラスタの特徴を確認\n",
    "cluster_centers_clean = scaler.inverse_transform(kmeans.cluster_centers_)\n",
    "cluster_df_clean = pd.DataFrame(cluster_centers_clean, columns=features)\n",
    "cluster_df_clean['cluster'] = range(5)\n",
    "\n",
    "# クラスタの中心を表示\n",
    "print(cluster_df_clean)\n",
    "\n",
    "# PCAを使用して2次元に圧縮\n",
    "pca = PCA(n_components=2)\n",
    "principal_components = pca.fit_transform(X_scaled_clean)\n",
    "spotify_data_clean['pca1'] = principal_components[:, 0]\n",
    "spotify_data_clean['pca2'] = principal_components[:, 1]\n",
    "\n",
    "# クラスタリング結果を可視化\n",
    "plt.figure(figsize=(10, 8))\n",
    "sns.scatterplot(x='pca1', y='pca2', hue='cluster', data=spotify_data_clean, palette='viridis')\n",
    "plt.title('Cluster Visualization using PCA')\n",
    "plt.xlabel('PCA Component 1')\n",
    "plt.ylabel('PCA Component 2')\n",
    "plt.legend(title='Cluster')\n",
    "plt.show()\n",
    "\n",
    "# クラスタリング結果を含むデータフレーム全体をCSVファイルとして出力\n",
    "output_file_path = 'spotify_2023_clustered.csv'\n",
    "spotify_data_clean.to_csv(output_file_path, index=False)\n",
    "\n",
    "print(f\"クラスタリング結果を含むデータを {output_file_path} に出力しました。\")"
   ]
  }
 ],
 "metadata": {
  "kernelspec": {
   "display_name": "Python 3 (ipykernel)",
   "language": "python",
   "name": "python3"
  },
  "language_info": {
   "codemirror_mode": {
    "name": "ipython",
    "version": 3
   },
   "file_extension": ".py",
   "mimetype": "text/x-python",
   "name": "python",
   "nbconvert_exporter": "python",
   "pygments_lexer": "ipython3",
   "version": "3.9.12"
  }
 },
 "nbformat": 4,
 "nbformat_minor": 5
}
