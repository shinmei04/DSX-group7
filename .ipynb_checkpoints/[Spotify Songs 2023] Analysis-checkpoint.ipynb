{
 "cells": [
  {
   "cell_type": "code",
   "execution_count": 6,
   "id": "d320ff65",
   "metadata": {},
   "outputs": [
    {
     "name": "stderr",
     "output_type": "stream",
     "text": [
      "C:\\Users\\niimi\\anaconda3\\lib\\site-packages\\scipy\\__init__.py:146: UserWarning: A NumPy version >=1.16.5 and <1.23.0 is required for this version of SciPy (detected version 1.23.5\n",
      "  warnings.warn(f\"A NumPy version >={np_minversion} and <{np_maxversion}\"\n"
     ]
    }
   ],
   "source": [
    "#各種インポート\n",
    "import pandas as pd\n",
    "from sklearn.preprocessing import StandardScaler\n",
    "from sklearn.cluster import KMeans"
   ]
  },
  {
   "cell_type": "code",
   "execution_count": 5,
   "id": "d84ade30",
   "metadata": {},
   "outputs": [],
   "source": [
    "#データ読み込み\n",
    "file_path = 'spotify-2023.csv'\n",
    "spotify_data = pd.read_csv(file_path, encoding='ISO-8859-1')"
   ]
  },
  {
   "cell_type": "code",
   "execution_count": 7,
   "id": "8e635e44",
   "metadata": {},
   "outputs": [],
   "source": [
    "# keyとmodeを数値に変換\n",
    "key_mapping = {'C': 0, 'C#': 1, 'D': 2, 'D#': 3, 'E': 4, 'F': 5, 'F#': 6, 'G': 7, 'G#': 8, 'A': 9, 'A#': 10, 'B': 11}\n",
    "spotify_data['key'] = spotify_data['key'].map(key_mapping)\n",
    "\n",
    "mode_mapping = {'Major': 1, 'Minor': 0}\n",
    "spotify_data['mode'] = spotify_data['mode'].map(mode_mapping)"
   ]
  },
  {
   "cell_type": "code",
   "execution_count": 8,
   "id": "8731ccd5",
   "metadata": {},
   "outputs": [],
   "source": [
    "# クラスタリングに使用する特徴量を選定\n",
    "features = ['bpm', 'key', 'mode', 'danceability_%', 'valence_%', 'energy_%', 'acousticness_%', 'instrumentalness_%', 'liveness_%', 'speechiness_%']\n",
    "X = spotify_data[features]"
   ]
  },
  {
   "cell_type": "code",
   "execution_count": 9,
   "id": "9d6f7851",
   "metadata": {},
   "outputs": [],
   "source": [
    "# データの標準化\n",
    "scaler = StandardScaler()\n",
    "X_scaled = scaler.fit_transform(X)"
   ]
  },
  {
   "cell_type": "code",
   "execution_count": 10,
   "id": "c0cdea9c",
   "metadata": {},
   "outputs": [],
   "source": [
    "# 欠損値を含む行を削除\n",
    "spotify_data_clean = spotify_data.dropna()\n",
    "X_clean = spotify_data_clean[features]\n",
    "X_scaled_clean = scaler.fit_transform(X_clean)"
   ]
  },
  {
   "cell_type": "code",
   "execution_count": 11,
   "id": "7e275795",
   "metadata": {},
   "outputs": [
    {
     "name": "stderr",
     "output_type": "stream",
     "text": [
      "C:\\Users\\niimi\\AppData\\Local\\Temp\\ipykernel_28480\\677376748.py:3: SettingWithCopyWarning: \n",
      "A value is trying to be set on a copy of a slice from a DataFrame.\n",
      "Try using .loc[row_indexer,col_indexer] = value instead\n",
      "\n",
      "See the caveats in the documentation: https://pandas.pydata.org/pandas-docs/stable/user_guide/indexing.html#returning-a-view-versus-a-copy\n",
      "  spotify_data_clean['cluster'] = kmeans.fit_predict(X_scaled_clean)\n"
     ]
    }
   ],
   "source": [
    "# K-meansクラスタリングの実行\n",
    "kmeans = KMeans(n_clusters=5, random_state=0)\n",
    "spotify_data_clean['cluster'] = kmeans.fit_predict(X_scaled_clean)"
   ]
  },
  {
   "cell_type": "code",
   "execution_count": 12,
   "id": "fd991e94",
   "metadata": {},
   "outputs": [
    {
     "name": "stdout",
     "output_type": "stream",
     "text": [
      "          bpm       key          mode  danceability_%  valence_%   energy_%  \\\n",
      "0  127.131579  5.666667  5.087719e-01       72.850877  51.649123  60.833333   \n",
      "1  121.651685  5.520599  1.000000e+00       70.082397  57.382022  71.936330   \n",
      "2  119.912548  6.015209 -6.661338e-16       71.813688  56.752852  69.699620   \n",
      "3  125.318471  6.407643  7.579618e-01       52.248408  33.248408  45.878981   \n",
      "4  121.875000  5.687500  5.000000e-01       59.500000  29.812500  56.750000   \n",
      "\n",
      "   acousticness_%  instrumentalness_%  liveness_%  speechiness_%  cluster  \n",
      "0       27.982456            0.087719   15.228070      32.298246        0  \n",
      "1       15.524345            0.617978   19.149813       7.205993        1  \n",
      "2       17.661597            0.323194   19.376426       7.756654        2  \n",
      "3       57.401274            1.242038   17.031847       5.522293        3  \n",
      "4       31.437500           57.187500   14.062500       5.437500        4  \n"
     ]
    }
   ],
   "source": [
    "# 各クラスタの特徴を確認\n",
    "cluster_centers_clean = scaler.inverse_transform(kmeans.cluster_centers_)\n",
    "cluster_df_clean = pd.DataFrame(cluster_centers_clean, columns=features)\n",
    "cluster_df_clean['cluster'] = range(5)\n",
    "\n",
    "# クラスタの中心を表示\n",
    "print(cluster_df_clean)"
   ]
  }
 ],
 "metadata": {
  "kernelspec": {
   "display_name": "Python 3 (ipykernel)",
   "language": "python",
   "name": "python3"
  },
  "language_info": {
   "codemirror_mode": {
    "name": "ipython",
    "version": 3
   },
   "file_extension": ".py",
   "mimetype": "text/x-python",
   "name": "python",
   "nbconvert_exporter": "python",
   "pygments_lexer": "ipython3",
   "version": "3.9.12"
  }
 },
 "nbformat": 4,
 "nbformat_minor": 5
}
